{
 "cells": [
  {
   "cell_type": "markdown",
   "metadata": {},
   "source": [
    "## Часть первая. Исследование одномерной выборки.\n",
    "### Вариационный ряд"
   ]
  },
  {
   "cell_type": "code",
   "execution_count": 116,
   "metadata": {},
   "outputs": [
    {
     "name": "stdout",
     "output_type": "stream",
     "text": [
      "Xmin = 14700; Xmax = 66300\n",
      "K = 6; H = 8600\n",
      "N = 94\n"
     ]
    },
    {
     "data": {
      "text/plain": [
       "0     46300\n",
       "1     48800\n",
       "2     45700\n",
       "3     40200\n",
       "4     44800\n",
       "      ...  \n",
       "89    27800\n",
       "90    44800\n",
       "91    60100\n",
       "92    27800\n",
       "93    28300\n",
       "Name: Gun_ownership, Length: 94, dtype: int64"
      ]
     },
     "execution_count": 116,
     "metadata": {},
     "output_type": "execute_result"
    }
   ],
   "source": [
    "import math\n",
    "import pandas as pd\n",
    "source = pd.read_csv('sample_100.csv', sep=';')\n",
    "data = source['Gun_ownership']\n",
    "d_max, d_min = data.max(), data.min()\n",
    "k = 1 + 3.22 * math.log10(len(data))\n",
    "k = 6\n",
    "N = len(data)\n",
    "h = math.ceil((d_max - d_min) / k)\n",
    "print(f'Xmin = {d_min}; Xmax = {d_max}')\n",
    "print(f'K = {k}; H = {h}')\n",
    "print(f'N = {N}')\n",
    "data"
   ]
  },
  {
   "cell_type": "code",
   "execution_count": 117,
   "metadata": {},
   "outputs": [
    {
     "name": "stdout",
     "output_type": "stream",
     "text": [
      "Вариационный ряд:\n"
     ]
    },
    {
     "data": {
      "text/html": [
       "<div>\n",
       "<style scoped>\n",
       "    .dataframe tbody tr th:only-of-type {\n",
       "        vertical-align: middle;\n",
       "    }\n",
       "\n",
       "    .dataframe tbody tr th {\n",
       "        vertical-align: top;\n",
       "    }\n",
       "\n",
       "    .dataframe thead th {\n",
       "        text-align: right;\n",
       "    }\n",
       "</style>\n",
       "<table border=\"1\" class=\"dataframe\">\n",
       "  <thead>\n",
       "    <tr style=\"text-align: right;\">\n",
       "      <th></th>\n",
       "      <th>(14700; 23300]</th>\n",
       "      <th>(23300; 31900]</th>\n",
       "      <th>(31900; 40500]</th>\n",
       "      <th>(40500; 49100]</th>\n",
       "      <th>(49100; 57700]</th>\n",
       "      <th>(57700; 66300]</th>\n",
       "    </tr>\n",
       "  </thead>\n",
       "  <tbody>\n",
       "    <tr>\n",
       "      <th>Count</th>\n",
       "      <td>5</td>\n",
       "      <td>17</td>\n",
       "      <td>12</td>\n",
       "      <td>40</td>\n",
       "      <td>18</td>\n",
       "      <td>2</td>\n",
       "    </tr>\n",
       "  </tbody>\n",
       "</table>\n",
       "</div>"
      ],
      "text/plain": [
       "       (14700; 23300]  (23300; 31900]  (31900; 40500]  (40500; 49100]  \\\n",
       "Count               5              17              12              40   \n",
       "\n",
       "       (49100; 57700]  (57700; 66300]  \n",
       "Count              18               2  "
      ]
     },
     "execution_count": 117,
     "metadata": {},
     "output_type": "execute_result"
    }
   ],
   "source": [
    "series = {}\n",
    "interval_starts = []\n",
    "interval_ends = []\n",
    "for i in range(math.ceil(k)):\n",
    "    c_min = d_min + h * i\n",
    "    c_max = c_min + h\n",
    "    interval_starts.append(c_min)\n",
    "    interval_ends.append(c_max)\n",
    "    series[f'({c_min}; {c_max}]'] = data[(data > c_min) & (data <= c_max)].tolist()\n",
    "series[f'({d_min}; {d_min + h}]'] = data[(data >= d_min) & (data <= d_min + h)].tolist()\n",
    "series_n = pd.DataFrame({key: len(series[key]) for key in series}, index=['Count']).T\n",
    "series_n['Centers'] = [(x[0] + x[1]) / 2 for x in zip(interval_starts, interval_ends)]\n",
    "series_n['Relative'] = series_n['Count'] / N\n",
    "print('Вариационный ряд:')\n",
    "series_n[['Count']].T"
   ]
  },
  {
   "cell_type": "markdown",
   "metadata": {},
   "source": [
    "### Полигон и гистограмма частот"
   ]
  },
  {
   "cell_type": "code",
   "execution_count": 118,
   "metadata": {},
   "outputs": [
    {
     "data": {
      "image/png": "[encoded data removed]",
      "text/plain": [
       "<Figure size 432x288 with 1 Axes>"
      ]
     },
     "metadata": {
      "needs_background": "light"
     },
     "output_type": "display_data"
    }
   ],
   "source": [
    "import matplotlib.pyplot as plt\n",
    "import numpy as np\n",
    "plt.plot(series_n['Centers'], series_n['Relative'], marker='s', label='полигон частот', color='gray')\n",
    "plt.bar(np.array(interval_starts) + h / 2, series_n['Relative'], h, label='гистограмма частот', color='lightgray')\n",
    "plt.legend()\n",
    "\n",
    "plt.rcParams['axes.facecolor']='white'\n",
    "plt.rcParams['savefig.facecolor']='white'\n",
    "plt.show()"
   ]
  },
  {
   "cell_type": "code",
   "execution_count": 119,
   "metadata": {},
   "outputs": [
    {
     "data": {
      "text/html": [
       "<div>\n",
       "<style scoped>\n",
       "    .dataframe tbody tr th:only-of-type {\n",
       "        vertical-align: middle;\n",
       "    }\n",
       "\n",
       "    .dataframe tbody tr th {\n",
       "        vertical-align: top;\n",
       "    }\n",
       "\n",
       "    .dataframe thead th {\n",
       "        text-align: right;\n",
       "    }\n",
       "</style>\n",
       "<table border=\"1\" class=\"dataframe\">\n",
       "  <thead>\n",
       "    <tr style=\"text-align: right;\">\n",
       "      <th></th>\n",
       "      <th>(14700; 23300]</th>\n",
       "      <th>(23300; 31900]</th>\n",
       "      <th>(31900; 40500]</th>\n",
       "      <th>(40500; 49100]</th>\n",
       "      <th>(49100; 57700]</th>\n",
       "      <th>(57700; 66300]</th>\n",
       "    </tr>\n",
       "  </thead>\n",
       "  <tbody>\n",
       "    <tr>\n",
       "      <th>Count</th>\n",
       "      <td>5.000000</td>\n",
       "      <td>17.000000</td>\n",
       "      <td>12.00000</td>\n",
       "      <td>40.000000</td>\n",
       "      <td>18.000000</td>\n",
       "      <td>2.000000</td>\n",
       "    </tr>\n",
       "    <tr>\n",
       "      <th>Centers</th>\n",
       "      <td>19000.000000</td>\n",
       "      <td>27600.000000</td>\n",
       "      <td>36200.00000</td>\n",
       "      <td>44800.000000</td>\n",
       "      <td>53400.000000</td>\n",
       "      <td>62000.000000</td>\n",
       "    </tr>\n",
       "    <tr>\n",
       "      <th>Relative</th>\n",
       "      <td>0.053191</td>\n",
       "      <td>0.180851</td>\n",
       "      <td>0.12766</td>\n",
       "      <td>0.425532</td>\n",
       "      <td>0.191489</td>\n",
       "      <td>0.021277</td>\n",
       "    </tr>\n",
       "  </tbody>\n",
       "</table>\n",
       "</div>"
      ],
      "text/plain": [
       "          (14700; 23300]  (23300; 31900]  (31900; 40500]  (40500; 49100]  \\\n",
       "Count           5.000000       17.000000        12.00000       40.000000   \n",
       "Centers     19000.000000    27600.000000     36200.00000    44800.000000   \n",
       "Relative        0.053191        0.180851         0.12766        0.425532   \n",
       "\n",
       "          (49100; 57700]  (57700; 66300]  \n",
       "Count          18.000000        2.000000  \n",
       "Centers     53400.000000    62000.000000  \n",
       "Relative        0.191489        0.021277  "
      ]
     },
     "execution_count": 119,
     "metadata": {},
     "output_type": "execute_result"
    }
   ],
   "source": [
    "series_n.T"
   ]
  },
  {
   "cell_type": "markdown",
   "metadata": {},
   "source": [
    "### Эмпирическая функция распределения"
   ]
  },
  {
   "cell_type": "code",
   "execution_count": 120,
   "metadata": {},
   "outputs": [
    {
     "data": {
      "text/plain": [
       "[0.0, 0.053, 0.234, 0.362, 0.787, 0.979, 1.0, 1.0]"
      ]
     },
     "execution_count": 120,
     "metadata": {},
     "output_type": "execute_result"
    }
   ],
   "source": [
    "cumulative = [0.0]\n",
    "for v in series_n['Relative']:\n",
    "    cumulative.append(cumulative[-1] + v)\n",
    "cumulative.append(1.0)\n",
    "[round(x, 3) for x in cumulative]"
   ]
  },
  {
   "cell_type": "code",
   "execution_count": 121,
   "metadata": {},
   "outputs": [
    {
     "data": {
      "text/plain": [
       "<matplotlib.collections.LineCollection at 0x240f645b670>"
      ]
     },
     "execution_count": 121,
     "metadata": {},
     "output_type": "execute_result"
    },
    {
     "data": {
      "image/png": "[encoded data removed]",
      "text/plain": [
       "<Figure size 432x288 with 1 Axes>"
      ]
     },
     "metadata": {
      "needs_background": "light"
     },
     "output_type": "display_data"
    }
   ],
   "source": [
    "plt.hlines(cumulative[1:-1], interval_starts, interval_ends)"
   ]
  },
  {
   "cell_type": "markdown",
   "metadata": {},
   "source": [
    "### Выборочная средняя"
   ]
  },
  {
   "cell_type": "code",
   "execution_count": 122,
   "metadata": {},
   "outputs": [
    {
     "data": {
      "text/plain": [
       "41231.914893617024"
      ]
     },
     "execution_count": 122,
     "metadata": {},
     "output_type": "execute_result"
    }
   ],
   "source": [
    "# несмещённая оценка генеральной средней\n",
    "mean = (series_n['Count'] * series_n['Centers']).sum() / N\n",
    "mean"
   ]
  },
  {
   "cell_type": "markdown",
   "metadata": {},
   "source": [
    "### Выборочная дисперсия"
   ]
  },
  {
   "cell_type": "code",
   "execution_count": 123,
   "metadata": {},
   "outputs": [
    {
     "data": {
      "text/plain": [
       "106076853.77999094"
      ]
     },
     "execution_count": 123,
     "metadata": {},
     "output_type": "execute_result"
    }
   ],
   "source": [
    "disp = (series_n['Count'] * (series_n['Centers'] - mean) ** 2).sum() / N\n",
    "disp"
   ]
  },
  {
   "cell_type": "markdown",
   "metadata": {},
   "source": [
    "### Исправленная дисперсия"
   ]
  },
  {
   "cell_type": "code",
   "execution_count": 124,
   "metadata": {},
   "outputs": [
    {
     "data": {
      "text/plain": [
       "107217465.11095859"
      ]
     },
     "execution_count": 124,
     "metadata": {},
     "output_type": "execute_result"
    }
   ],
   "source": [
    "s_2 = N * disp / (N - 1)\n",
    "s_2"
   ]
  },
  {
   "cell_type": "markdown",
   "metadata": {},
   "source": [
    "### Среднее квадратическое"
   ]
  },
  {
   "cell_type": "code",
   "execution_count": 125,
   "metadata": {},
   "outputs": [
    {
     "data": {
      "text/plain": [
       "(10354.586670213283, 10299.361814209215)"
      ]
     },
     "execution_count": 125,
     "metadata": {},
     "output_type": "execute_result"
    }
   ],
   "source": [
    "sigma = math.sqrt(disp)\n",
    "s = math.sqrt(s_2)\n",
    "s, sigma"
   ]
  },
  {
   "cell_type": "markdown",
   "metadata": {},
   "source": [
    "### Ассиметрия"
   ]
  },
  {
   "cell_type": "code",
   "execution_count": 126,
   "metadata": {},
   "outputs": [
    {
     "data": {
      "text/plain": [
       "-0.4539500001795486"
      ]
     },
     "execution_count": 126,
     "metadata": {},
     "output_type": "execute_result"
    }
   ],
   "source": [
    "assim = (series_n['Count'] * (series_n['Centers'] - mean) ** 3).sum() / (N * s ** 3)\n",
    "assim"
   ]
  },
  {
   "cell_type": "markdown",
   "metadata": {},
   "source": [
    "### Эксцесс"
   ]
  },
  {
   "cell_type": "code",
   "execution_count": 127,
   "metadata": {},
   "outputs": [
    {
     "data": {
      "text/plain": [
       "-0.6037517015555047"
      ]
     },
     "execution_count": 127,
     "metadata": {},
     "output_type": "execute_result"
    }
   ],
   "source": [
    "ex = (series_n['Count'] * (series_n['Centers'] - mean) ** 4).sum() / (N * s ** 4) - 3\n",
    "ex"
   ]
  },
  {
   "cell_type": "markdown",
   "metadata": {},
   "source": [
    "### Доверительные интервалы"
   ]
  },
  {
   "cell_type": "code",
   "execution_count": 128,
   "metadata": {},
   "outputs": [
    {
     "name": "stdout",
     "output_type": "stream",
     "text": [
      "2093.2683748256704\n",
      "39138.646518791356 < a < 43325.18326844269\n"
     ]
    }
   ],
   "source": [
    "ty = 1.96\n",
    "delta = ty * s / math.sqrt(N)\n",
    "print(delta)\n",
    "print(f'{mean - delta} < a < {mean + delta}')"
   ]
  },
  {
   "cell_type": "markdown",
   "metadata": {},
   "source": [
    "### Уровень значимости"
   ]
  },
  {
   "cell_type": "code",
   "execution_count": 129,
   "metadata": {},
   "outputs": [],
   "source": [
    "import scipy.stats\n",
    "def laplace(x):\n",
    "    return scipy.stats.norm.cdf(x) - 0.5"
   ]
  },
  {
   "cell_type": "code",
   "execution_count": 130,
   "metadata": {},
   "outputs": [
    {
     "data": {
      "text/html": [
       "<div>\n",
       "<style scoped>\n",
       "    .dataframe tbody tr th:only-of-type {\n",
       "        vertical-align: middle;\n",
       "    }\n",
       "\n",
       "    .dataframe tbody tr th {\n",
       "        vertical-align: top;\n",
       "    }\n",
       "\n",
       "    .dataframe thead th {\n",
       "        text-align: right;\n",
       "    }\n",
       "</style>\n",
       "<table border=\"1\" class=\"dataframe\">\n",
       "  <thead>\n",
       "    <tr style=\"text-align: right;\">\n",
       "      <th></th>\n",
       "      <th>0</th>\n",
       "      <th>1</th>\n",
       "      <th>2</th>\n",
       "      <th>3</th>\n",
       "      <th>4</th>\n",
       "      <th>5</th>\n",
       "      <th>6</th>\n",
       "      <th>7</th>\n",
       "      <th>8</th>\n",
       "      <th>9</th>\n",
       "    </tr>\n",
       "  </thead>\n",
       "  <tbody>\n",
       "    <tr>\n",
       "      <th>0</th>\n",
       "      <td>14700.0</td>\n",
       "      <td>23300.0</td>\n",
       "      <td>5.0</td>\n",
       "      <td>-2.562335</td>\n",
       "      <td>-1.731785</td>\n",
       "      <td>-0.494801</td>\n",
       "      <td>-0.458344</td>\n",
       "      <td>0.036457</td>\n",
       "      <td>3.426995</td>\n",
       "      <td>0.722016</td>\n",
       "    </tr>\n",
       "    <tr>\n",
       "      <th>1</th>\n",
       "      <td>23300.0</td>\n",
       "      <td>31900.0</td>\n",
       "      <td>17.0</td>\n",
       "      <td>-1.731785</td>\n",
       "      <td>-0.901235</td>\n",
       "      <td>-0.458344</td>\n",
       "      <td>-0.316268</td>\n",
       "      <td>0.142076</td>\n",
       "      <td>13.355122</td>\n",
       "      <td>0.994759</td>\n",
       "    </tr>\n",
       "    <tr>\n",
       "      <th>2</th>\n",
       "      <td>31900.0</td>\n",
       "      <td>40500.0</td>\n",
       "      <td>12.0</td>\n",
       "      <td>-0.901235</td>\n",
       "      <td>-0.070685</td>\n",
       "      <td>-0.316268</td>\n",
       "      <td>-0.028176</td>\n",
       "      <td>0.288092</td>\n",
       "      <td>27.080693</td>\n",
       "      <td>8.398134</td>\n",
       "    </tr>\n",
       "    <tr>\n",
       "      <th>3</th>\n",
       "      <td>40500.0</td>\n",
       "      <td>49100.0</td>\n",
       "      <td>40.0</td>\n",
       "      <td>-0.070685</td>\n",
       "      <td>0.759865</td>\n",
       "      <td>-0.028176</td>\n",
       "      <td>0.276332</td>\n",
       "      <td>0.304508</td>\n",
       "      <td>28.623760</td>\n",
       "      <td>4.521378</td>\n",
       "    </tr>\n",
       "    <tr>\n",
       "      <th>4</th>\n",
       "      <td>49100.0</td>\n",
       "      <td>57700.0</td>\n",
       "      <td>18.0</td>\n",
       "      <td>0.759865</td>\n",
       "      <td>1.590415</td>\n",
       "      <td>0.276332</td>\n",
       "      <td>0.444129</td>\n",
       "      <td>0.167797</td>\n",
       "      <td>15.772921</td>\n",
       "      <td>0.314456</td>\n",
       "    </tr>\n",
       "    <tr>\n",
       "      <th>5</th>\n",
       "      <td>57700.0</td>\n",
       "      <td>66300.0</td>\n",
       "      <td>2.0</td>\n",
       "      <td>1.590415</td>\n",
       "      <td>2.420964</td>\n",
       "      <td>0.444129</td>\n",
       "      <td>0.492260</td>\n",
       "      <td>0.048131</td>\n",
       "      <td>4.524314</td>\n",
       "      <td>1.408426</td>\n",
       "    </tr>\n",
       "  </tbody>\n",
       "</table>\n",
       "</div>"
      ],
      "text/plain": [
       "         0        1     2         3         4         5         6         7  \\\n",
       "0  14700.0  23300.0   5.0 -2.562335 -1.731785 -0.494801 -0.458344  0.036457   \n",
       "1  23300.0  31900.0  17.0 -1.731785 -0.901235 -0.458344 -0.316268  0.142076   \n",
       "2  31900.0  40500.0  12.0 -0.901235 -0.070685 -0.316268 -0.028176  0.288092   \n",
       "3  40500.0  49100.0  40.0 -0.070685  0.759865 -0.028176  0.276332  0.304508   \n",
       "4  49100.0  57700.0  18.0  0.759865  1.590415  0.276332  0.444129  0.167797   \n",
       "5  57700.0  66300.0   2.0  1.590415  2.420964  0.444129  0.492260  0.048131   \n",
       "\n",
       "           8         9  \n",
       "0   3.426995  0.722016  \n",
       "1  13.355122  0.994759  \n",
       "2  27.080693  8.398134  \n",
       "3  28.623760  4.521378  \n",
       "4  15.772921  0.314456  \n",
       "5   4.524314  1.408426  "
      ]
     },
     "execution_count": 130,
     "metadata": {},
     "output_type": "execute_result"
    }
   ],
   "source": [
    "t1 = (np.array(interval_starts) - mean) / s\n",
    "t2 = (np.array(interval_ends) - mean) / s\n",
    "t3 = laplace(t1)\n",
    "t4 = laplace(t2)\n",
    "t5 = t4 - t3\n",
    "t6 = N * t5\n",
    "t7 = (series_n['Count'].values - t6) ** 2 / t6\n",
    "table2 = pd.DataFrame([interval_starts, interval_ends, series_n['Count'], t1, t2, t3, t4, t5, t6, t7]).T\n",
    "table2"
   ]
  },
  {
   "cell_type": "code",
   "execution_count": 131,
   "metadata": {},
   "outputs": [
    {
     "data": {
      "text/plain": [
       "(3, 0.0009570345823684637, 16.359169262716566)"
      ]
     },
     "execution_count": 131,
     "metadata": {},
     "output_type": "execute_result"
    }
   ],
   "source": [
    "r = k - 2 - 1\n",
    "x_2 = t7.sum()\n",
    "r, scipy.stats.chi2.sf(x_2, r), x_2"
   ]
  },
  {
   "cell_type": "code",
   "execution_count": 132,
   "metadata": {},
   "outputs": [
    {
     "name": "stdout",
     "output_type": "stream",
     "text": [
      "23300\n",
      "31900\n",
      "40500\n",
      "49100\n",
      "57700\n",
      "66300\n"
     ]
    }
   ],
   "source": [
    "print('\\n'.join(map(str, interval_ends)))"
   ]
  },
  {
   "cell_type": "markdown",
   "metadata": {},
   "source": [
    "### Корреляционная таблица"
   ]
  },
  {
   "cell_type": "code",
   "execution_count": 136,
   "metadata": {},
   "outputs": [
    {
     "data": {
      "text/html": [
       "<div>\n",
       "<style scoped>\n",
       "    .dataframe tbody tr th:only-of-type {\n",
       "        vertical-align: middle;\n",
       "    }\n",
       "\n",
       "    .dataframe tbody tr th {\n",
       "        vertical-align: top;\n",
       "    }\n",
       "\n",
       "    .dataframe thead th {\n",
       "        text-align: right;\n",
       "    }\n",
       "</style>\n",
       "<table border=\"1\" class=\"dataframe\">\n",
       "  <thead>\n",
       "    <tr style=\"text-align: right;\">\n",
       "      <th></th>\n",
       "      <th>(14700;23300]</th>\n",
       "      <th>(23300;31900]</th>\n",
       "      <th>(31900;40500]</th>\n",
       "      <th>(40500;49100]</th>\n",
       "      <th>(49100;57700]</th>\n",
       "      <th>(57700;66300]</th>\n",
       "    </tr>\n",
       "  </thead>\n",
       "  <tbody>\n",
       "    <tr>\n",
       "      <th>(0;106]</th>\n",
       "      <td>0</td>\n",
       "      <td>5</td>\n",
       "      <td>4</td>\n",
       "      <td>16</td>\n",
       "      <td>6</td>\n",
       "      <td>0</td>\n",
       "    </tr>\n",
       "    <tr>\n",
       "      <th>(106;212]</th>\n",
       "      <td>1</td>\n",
       "      <td>2</td>\n",
       "      <td>4</td>\n",
       "      <td>13</td>\n",
       "      <td>5</td>\n",
       "      <td>0</td>\n",
       "    </tr>\n",
       "    <tr>\n",
       "      <th>(212;318]</th>\n",
       "      <td>0</td>\n",
       "      <td>4</td>\n",
       "      <td>2</td>\n",
       "      <td>6</td>\n",
       "      <td>2</td>\n",
       "      <td>0</td>\n",
       "    </tr>\n",
       "    <tr>\n",
       "      <th>(318;424]</th>\n",
       "      <td>2</td>\n",
       "      <td>2</td>\n",
       "      <td>0</td>\n",
       "      <td>3</td>\n",
       "      <td>1</td>\n",
       "      <td>2</td>\n",
       "    </tr>\n",
       "    <tr>\n",
       "      <th>(424;530]</th>\n",
       "      <td>0</td>\n",
       "      <td>4</td>\n",
       "      <td>0</td>\n",
       "      <td>2</td>\n",
       "      <td>2</td>\n",
       "      <td>0</td>\n",
       "    </tr>\n",
       "    <tr>\n",
       "      <th>(530;636]</th>\n",
       "      <td>2</td>\n",
       "      <td>0</td>\n",
       "      <td>2</td>\n",
       "      <td>0</td>\n",
       "      <td>2</td>\n",
       "      <td>0</td>\n",
       "    </tr>\n",
       "  </tbody>\n",
       "</table>\n",
       "</div>"
      ],
      "text/plain": [
       "           (14700;23300]  (23300;31900]  (31900;40500]  (40500;49100]  \\\n",
       "(0;106]                0              5              4             16   \n",
       "(106;212]              1              2              4             13   \n",
       "(212;318]              0              4              2              6   \n",
       "(318;424]              2              2              0              3   \n",
       "(424;530]              0              4              0              2   \n",
       "(530;636]              2              0              2              0   \n",
       "\n",
       "           (49100;57700]  (57700;66300]  \n",
       "(0;106]                6              0  \n",
       "(106;212]              5              0  \n",
       "(212;318]              2              0  \n",
       "(318;424]              1              2  \n",
       "(424;530]              2              0  \n",
       "(530;636]              2              0  "
      ]
     },
     "execution_count": 136,
     "metadata": {},
     "output_type": "execute_result"
    }
   ],
   "source": [
    "# copied from previous notebook, TODO: a better solution\n",
    "x_interval_starts, x_interval_ends = [0, 106, 212, 318, 424, 530], [106, 212, 318, 424, 530, 636]\n",
    "x_centers = [53.0, 159.0, 265.0, 371.0, 477.0, 583.0]\n",
    "corr_table = pd.DataFrame(np.arange(k ** 2).reshape(k, -1),\n",
    "    index=[f'({x[0]};{x[1]}]' for x in zip(x_interval_starts, x_interval_ends)],\n",
    "    columns=[f'({x[0]};{x[1]}]' for x in zip(interval_starts, interval_ends)])\n",
    "corr_table[:] = 0\n",
    "for i in range(k):\n",
    "    for j in range(k):\n",
    "        condition = (source['Crime_rate'] <= x_interval_ends[i]) & (source['Gun_ownership'] <= interval_ends[j])\n",
    "        condition &= source['Crime_rate'] > x_interval_starts[i] if i != 0 else source['Crime_rate'] >= x_interval_starts[i]\n",
    "        condition &= source['Gun_ownership'] > interval_starts[j] if j != 0 else source['Gun_ownership'] >= interval_starts[j]\n",
    "        corr_table.iloc[i, j] += condition.sum()\n",
    "corr_table.to_clipboard(sep=',')\n",
    "corr_table"
   ]
  },
  {
   "cell_type": "code",
   "execution_count": 142,
   "metadata": {},
   "outputs": [
    {
     "data": {
      "text/html": [
       "<div>\n",
       "<style scoped>\n",
       "    .dataframe tbody tr th:only-of-type {\n",
       "        vertical-align: middle;\n",
       "    }\n",
       "\n",
       "    .dataframe tbody tr th {\n",
       "        vertical-align: top;\n",
       "    }\n",
       "\n",
       "    .dataframe thead th {\n",
       "        text-align: right;\n",
       "    }\n",
       "</style>\n",
       "<table border=\"1\" class=\"dataframe\">\n",
       "  <thead>\n",
       "    <tr style=\"text-align: right;\">\n",
       "      <th>Centers</th>\n",
       "      <th>19000.0</th>\n",
       "      <th>27600.0</th>\n",
       "      <th>36200.0</th>\n",
       "      <th>44800.0</th>\n",
       "      <th>53400.0</th>\n",
       "      <th>62000.0</th>\n",
       "    </tr>\n",
       "  </thead>\n",
       "  <tbody>\n",
       "    <tr>\n",
       "      <th>53.0</th>\n",
       "      <td>0</td>\n",
       "      <td>5035000</td>\n",
       "      <td>4028000</td>\n",
       "      <td>16112000</td>\n",
       "      <td>6042000</td>\n",
       "      <td>0</td>\n",
       "    </tr>\n",
       "    <tr>\n",
       "      <th>159.0</th>\n",
       "      <td>4388400</td>\n",
       "      <td>8776800</td>\n",
       "      <td>17553600</td>\n",
       "      <td>57049200</td>\n",
       "      <td>21942000</td>\n",
       "      <td>0</td>\n",
       "    </tr>\n",
       "    <tr>\n",
       "      <th>265.0</th>\n",
       "      <td>0</td>\n",
       "      <td>38372000</td>\n",
       "      <td>19186000</td>\n",
       "      <td>57558000</td>\n",
       "      <td>19186000</td>\n",
       "      <td>0</td>\n",
       "    </tr>\n",
       "    <tr>\n",
       "      <th>371.0</th>\n",
       "      <td>33241600</td>\n",
       "      <td>33241600</td>\n",
       "      <td>0</td>\n",
       "      <td>49862400</td>\n",
       "      <td>16620800</td>\n",
       "      <td>33241600</td>\n",
       "    </tr>\n",
       "    <tr>\n",
       "      <th>477.0</th>\n",
       "      <td>0</td>\n",
       "      <td>101887200</td>\n",
       "      <td>0</td>\n",
       "      <td>50943600</td>\n",
       "      <td>50943600</td>\n",
       "      <td>0</td>\n",
       "    </tr>\n",
       "    <tr>\n",
       "      <th>583.0</th>\n",
       "      <td>72292000</td>\n",
       "      <td>0</td>\n",
       "      <td>72292000</td>\n",
       "      <td>0</td>\n",
       "      <td>72292000</td>\n",
       "      <td>0</td>\n",
       "    </tr>\n",
       "  </tbody>\n",
       "</table>\n",
       "</div>"
      ],
      "text/plain": [
       "Centers   19000.0    27600.0   36200.0   44800.0   53400.0   62000.0\n",
       "53.0            0    5035000   4028000  16112000   6042000         0\n",
       "159.0     4388400    8776800  17553600  57049200  21942000         0\n",
       "265.0           0   38372000  19186000  57558000  19186000         0\n",
       "371.0    33241600   33241600         0  49862400  16620800  33241600\n",
       "477.0           0  101887200         0  50943600  50943600         0\n",
       "583.0    72292000          0  72292000         0  72292000         0"
      ]
     },
     "execution_count": 142,
     "metadata": {},
     "output_type": "execute_result"
    }
   ],
   "source": [
    "prod_table = pd.DataFrame(np.arange(k ** 2).reshape(k, -1),\n",
    "    index=x_centers, columns=series_n['Centers'])\n",
    "prod_table[:] = 0\n",
    "for i in range(k):\n",
    "    for j in range(k):\n",
    "        prod_table.iloc[i, j] = x_centers[i] * series_n['Centers'].values[i] * corr_table.iloc[i, j]\n",
    "prod_table.to_clipboard(sep=',')\n",
    "prod_table"
   ]
  },
  {
   "cell_type": "code",
   "execution_count": 146,
   "metadata": {},
   "outputs": [
    {
     "data": {
      "text/plain": [
       "9171142.553191489"
      ]
     },
     "execution_count": 146,
     "metadata": {},
     "output_type": "execute_result"
    }
   ],
   "source": [
    "bar_XY = prod_table.values.sum() / N\n",
    "bar_XY"
   ]
  },
  {
   "cell_type": "code",
   "execution_count": 150,
   "metadata": {},
   "outputs": [
    {
     "data": {
      "text/plain": [
       "243994.34133091755"
      ]
     },
     "execution_count": 150,
     "metadata": {},
     "output_type": "execute_result"
    }
   ],
   "source": [
    "x_mean = 216.51063829787233\n",
    "k_XY = bar_XY - x_mean * mean\n",
    "k_XY"
   ]
  },
  {
   "cell_type": "code",
   "execution_count": 151,
   "metadata": {},
   "outputs": [
    {
     "data": {
      "text/plain": [
       "0.14435047097961196"
      ]
     },
     "execution_count": 151,
     "metadata": {},
     "output_type": "execute_result"
    }
   ],
   "source": [
    "r_xy = k_XY / math.sqrt(26934.1 * 106076853.77)\n",
    "r_xy"
   ]
  }
 ],
 "metadata": {
  "interpreter": {
   "hash": "e4c0a5a8d53faab8e6f57f3251c9eb03ce22814de9778c6c62bad453f29e3df4"
  },
  "kernelspec": {
   "display_name": "Python 3.8.10 64-bit",
   "language": "python",
   "name": "python3"
  },
  "language_info": {
   "codemirror_mode": {
    "name": "ipython",
    "version": 3
   },
   "file_extension": ".py",
   "mimetype": "text/x-python",
   "name": "python",
   "nbconvert_exporter": "python",
   "pygments_lexer": "ipython3",
   "version": "3.8.10"
  },
  "orig_nbformat": 4
 },
 "nbformat": 4,
 "nbformat_minor": 2
}
