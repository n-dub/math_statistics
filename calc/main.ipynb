{
 "cells": [
  {
   "cell_type": "code",
   "execution_count": 56,
   "metadata": {},
   "outputs": [],
   "source": [
    "import pandas as pd"
   ]
  },
  {
   "cell_type": "code",
   "execution_count": 57,
   "metadata": {},
   "outputs": [],
   "source": [
    "df_crimes = pd.read_csv('../data/us_crimes_by_city.csv', sep=';')\n",
    "df_guns = pd.read_csv('../data/us_gun_owners_by_state.csv', sep=';').drop(['Total_guns'], axis=1)"
   ]
  },
  {
   "cell_type": "code",
   "execution_count": 60,
   "metadata": {},
   "outputs": [
    {
     "name": "stderr",
     "output_type": "stream",
     "text": [
      "C:\\Users\\raguc\\AppData\\Local\\Temp/ipykernel_3260/2571525903.py:2: FutureWarning: The default value of regex will change from True to False in a future version.\n",
      "  df_crimes['City'] = df_crimes['City'].str.replace('\\d', '')\n",
      "C:\\Users\\raguc\\AppData\\Local\\Temp/ipykernel_3260/2571525903.py:3: FutureWarning: The default value of regex will change from True to False in a future version.\n",
      "  df_crimes['State'] = df_crimes['State'].str.replace('\\d', '')\n"
     ]
    },
    {
     "data": {
      "text/html": [
       "<div>\n",
       "<style scoped>\n",
       "    .dataframe tbody tr th:only-of-type {\n",
       "        vertical-align: middle;\n",
       "    }\n",
       "\n",
       "    .dataframe tbody tr th {\n",
       "        vertical-align: top;\n",
       "    }\n",
       "\n",
       "    .dataframe thead th {\n",
       "        text-align: right;\n",
       "    }\n",
       "</style>\n",
       "<table border=\"1\" class=\"dataframe\">\n",
       "  <thead>\n",
       "    <tr style=\"text-align: right;\">\n",
       "      <th></th>\n",
       "      <th>City</th>\n",
       "      <th>Crime_rate</th>\n",
       "      <th>Gun_ownership</th>\n",
       "    </tr>\n",
       "  </thead>\n",
       "  <tbody>\n",
       "    <tr>\n",
       "      <th>2467</th>\n",
       "      <td>Franklinton</td>\n",
       "      <td>0.011699</td>\n",
       "      <td>0.531</td>\n",
       "    </tr>\n",
       "    <tr>\n",
       "      <th>356</th>\n",
       "      <td>Colusa</td>\n",
       "      <td>0.001016</td>\n",
       "      <td>0.283</td>\n",
       "    </tr>\n",
       "    <tr>\n",
       "      <th>5101</th>\n",
       "      <td>Fairview</td>\n",
       "      <td>0.001967</td>\n",
       "      <td>0.516</td>\n",
       "    </tr>\n",
       "    <tr>\n",
       "      <th>5190</th>\n",
       "      <td>Niota</td>\n",
       "      <td>0.002751</td>\n",
       "      <td>0.516</td>\n",
       "    </tr>\n",
       "    <tr>\n",
       "      <th>1457</th>\n",
       "      <td>Cahokia</td>\n",
       "      <td>0.005987</td>\n",
       "      <td>0.278</td>\n",
       "    </tr>\n",
       "    <tr>\n",
       "      <th>...</th>\n",
       "      <td>...</td>\n",
       "      <td>...</td>\n",
       "      <td>...</td>\n",
       "    </tr>\n",
       "    <tr>\n",
       "      <th>3542</th>\n",
       "      <td>LakesArea</td>\n",
       "      <td>0.001119</td>\n",
       "      <td>0.428</td>\n",
       "    </tr>\n",
       "    <tr>\n",
       "      <th>1390</th>\n",
       "      <td>Shelley</td>\n",
       "      <td>0.000226</td>\n",
       "      <td>0.601</td>\n",
       "    </tr>\n",
       "    <tr>\n",
       "      <th>3102</th>\n",
       "      <td>EastLansing</td>\n",
       "      <td>0.001837</td>\n",
       "      <td>0.402</td>\n",
       "    </tr>\n",
       "    <tr>\n",
       "      <th>3977</th>\n",
       "      <td>Helena</td>\n",
       "      <td>0.005792</td>\n",
       "      <td>0.663</td>\n",
       "    </tr>\n",
       "    <tr>\n",
       "      <th>6189</th>\n",
       "      <td>Stanwood</td>\n",
       "      <td>0.001501</td>\n",
       "      <td>0.421</td>\n",
       "    </tr>\n",
       "  </tbody>\n",
       "</table>\n",
       "<p>100 rows × 3 columns</p>\n",
       "</div>"
      ],
      "text/plain": [
       "             City  Crime_rate  Gun_ownership\n",
       "2467  Franklinton    0.011699          0.531\n",
       "356        Colusa    0.001016          0.283\n",
       "5101     Fairview    0.001967          0.516\n",
       "5190        Niota    0.002751          0.516\n",
       "1457      Cahokia    0.005987          0.278\n",
       "...           ...         ...            ...\n",
       "3542    LakesArea    0.001119          0.428\n",
       "1390      Shelley    0.000226          0.601\n",
       "3102  EastLansing    0.001837          0.402\n",
       "3977       Helena    0.005792          0.663\n",
       "6189     Stanwood    0.001501          0.421\n",
       "\n",
       "[100 rows x 3 columns]"
      ]
     },
     "execution_count": 60,
     "metadata": {},
     "output_type": "execute_result"
    }
   ],
   "source": [
    "df_crimes = df_crimes[['State', 'City', 'Population', 'Violent_crime']]\n",
    "df_crimes['City'] = df_crimes['City'].str.replace('\\d', '')\n",
    "df_crimes['State'] = df_crimes['State'].str.replace('\\d', '')\n",
    "df_crimes['Crime_rate'] = df_crimes['Violent_crime'] / df_crimes['Population']\n",
    "df = pd.merge(df_crimes, df_guns)\n",
    "df = df.drop(['State', 'Population', 'Violent_crime'], axis=1)\n",
    "sample = df.sample(100, random_state=2021)\n",
    "sample"
   ]
  },
  {
   "cell_type": "code",
   "execution_count": null,
   "metadata": {},
   "outputs": [],
   "source": []
  }
 ],
 "metadata": {
  "interpreter": {
   "hash": "e4c0a5a8d53faab8e6f57f3251c9eb03ce22814de9778c6c62bad453f29e3df4"
  },
  "kernelspec": {
   "display_name": "Python 3.8.10 64-bit",
   "language": "python",
   "name": "python3"
  },
  "language_info": {
   "codemirror_mode": {
    "name": "ipython",
    "version": 3
   },
   "file_extension": ".py",
   "mimetype": "text/x-python",
   "name": "python",
   "nbconvert_exporter": "python",
   "pygments_lexer": "ipython3",
   "version": "3.8.10"
  },
  "orig_nbformat": 4
 },
 "nbformat": 4,
 "nbformat_minor": 2
}
