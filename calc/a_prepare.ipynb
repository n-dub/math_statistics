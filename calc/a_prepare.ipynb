{
 "cells": [
  {
   "cell_type": "markdown",
   "metadata": {},
   "source": [
    "## Подготовка данных"
   ]
  },
  {
   "cell_type": "markdown",
   "metadata": {},
   "source": [
    "### Чтение данных с сайта ФБР"
   ]
  },
  {
   "cell_type": "code",
   "execution_count": 104,
   "metadata": {},
   "outputs": [],
   "source": [
    "import pandas as pd\n",
    "df_crimes = pd.read_csv('../data/us_crimes_by_city.csv', sep=';')\n",
    "df_guns = pd.read_csv('../data/us_gun_owners_by_state.csv', sep=';').drop(['Total_guns'], axis=1)"
   ]
  },
  {
   "cell_type": "markdown",
   "metadata": {},
   "source": [
    "### Фильтруем данные и составляем выборку"
   ]
  },
  {
   "cell_type": "code",
   "execution_count": 105,
   "metadata": {},
   "outputs": [
    {
     "data": {
      "text/html": [
       "<div>\n",
       "<style scoped>\n",
       "    .dataframe tbody tr th:only-of-type {\n",
       "        vertical-align: middle;\n",
       "    }\n",
       "\n",
       "    .dataframe tbody tr th {\n",
       "        vertical-align: top;\n",
       "    }\n",
       "\n",
       "    .dataframe thead th {\n",
       "        text-align: right;\n",
       "    }\n",
       "</style>\n",
       "<table border=\"1\" class=\"dataframe\">\n",
       "  <thead>\n",
       "    <tr style=\"text-align: right;\">\n",
       "      <th></th>\n",
       "      <th>City</th>\n",
       "      <th>Crime_rate</th>\n",
       "      <th>Gun_ownership</th>\n",
       "    </tr>\n",
       "  </thead>\n",
       "  <tbody>\n",
       "    <tr>\n",
       "      <th>0</th>\n",
       "      <td>Buckeye</td>\n",
       "      <td>137</td>\n",
       "      <td>46300</td>\n",
       "    </tr>\n",
       "    <tr>\n",
       "      <th>1</th>\n",
       "      <td>Nevada</td>\n",
       "      <td>255</td>\n",
       "      <td>48800</td>\n",
       "    </tr>\n",
       "    <tr>\n",
       "      <th>2</th>\n",
       "      <td>Dilley</td>\n",
       "      <td>223</td>\n",
       "      <td>45700</td>\n",
       "    </tr>\n",
       "    <tr>\n",
       "      <th>3</th>\n",
       "      <td>GrossePointe</td>\n",
       "      <td>117</td>\n",
       "      <td>40200</td>\n",
       "    </tr>\n",
       "    <tr>\n",
       "      <th>4</th>\n",
       "      <td>NewHaven</td>\n",
       "      <td>297</td>\n",
       "      <td>44800</td>\n",
       "    </tr>\n",
       "    <tr>\n",
       "      <th>...</th>\n",
       "      <td>...</td>\n",
       "      <td>...</td>\n",
       "      <td>...</td>\n",
       "    </tr>\n",
       "    <tr>\n",
       "      <th>89</th>\n",
       "      <td>LakeZurich</td>\n",
       "      <td>40</td>\n",
       "      <td>27800</td>\n",
       "    </tr>\n",
       "    <tr>\n",
       "      <th>90</th>\n",
       "      <td>Merrillville</td>\n",
       "      <td>144</td>\n",
       "      <td>44800</td>\n",
       "    </tr>\n",
       "    <tr>\n",
       "      <th>91</th>\n",
       "      <td>Buhl</td>\n",
       "      <td>360</td>\n",
       "      <td>60100</td>\n",
       "    </tr>\n",
       "    <tr>\n",
       "      <th>92</th>\n",
       "      <td>PalosHeights</td>\n",
       "      <td>40</td>\n",
       "      <td>27800</td>\n",
       "    </tr>\n",
       "    <tr>\n",
       "      <th>93</th>\n",
       "      <td>Martinez</td>\n",
       "      <td>215</td>\n",
       "      <td>28300</td>\n",
       "    </tr>\n",
       "  </tbody>\n",
       "</table>\n",
       "<p>94 rows × 3 columns</p>\n",
       "</div>"
      ],
      "text/plain": [
       "            City  Crime_rate  Gun_ownership\n",
       "0        Buckeye         137          46300\n",
       "1         Nevada         255          48800\n",
       "2         Dilley         223          45700\n",
       "3   GrossePointe         117          40200\n",
       "4       NewHaven         297          44800\n",
       "..           ...         ...            ...\n",
       "89    LakeZurich          40          27800\n",
       "90  Merrillville         144          44800\n",
       "91          Buhl         360          60100\n",
       "92  PalosHeights          40          27800\n",
       "93      Martinez         215          28300\n",
       "\n",
       "[94 rows x 3 columns]"
      ]
     },
     "execution_count": 105,
     "metadata": {},
     "output_type": "execute_result"
    }
   ],
   "source": [
    "df_crimes = df_crimes[['State', 'City', 'Population', 'Violent_crime']]\n",
    "df_crimes['City'] = df_crimes['City'].str.replace(r'\\d', '', regex=True)\n",
    "df_crimes['State'] = df_crimes['State'].str.replace(r'\\d', '', regex=True)\n",
    "df_crimes['Crime_rate'] = (df_crimes['Violent_crime'] / df_crimes['Population'])\n",
    "df = pd.merge(df_crimes, df_guns)\n",
    "df = df.drop(['State', 'Population', 'Violent_crime'], axis=1)\n",
    "sample = df.sample(100, random_state=9).reset_index(drop=True).dropna()\n",
    "sample['Crime_rate']    = (sample['Crime_rate'] * 100_000).round().astype('int')\n",
    "sample['Gun_ownership'] = (sample['Gun_ownership'] * 100_000).round().astype('int')\n",
    "sample = sample[sample['Crime_rate'] < 650].reset_index(drop=True)\n",
    "sample"
   ]
  },
  {
   "cell_type": "markdown",
   "metadata": {},
   "source": [
    "### Сохраняем выборку в CSV файл"
   ]
  },
  {
   "cell_type": "code",
   "execution_count": 106,
   "metadata": {},
   "outputs": [],
   "source": [
    "sample.to_csv('sample_100.csv', sep=';', index=False)"
   ]
  }
 ],
 "metadata": {
  "interpreter": {
   "hash": "e4c0a5a8d53faab8e6f57f3251c9eb03ce22814de9778c6c62bad453f29e3df4"
  },
  "kernelspec": {
   "display_name": "Python 3.8.10 64-bit",
   "language": "python",
   "name": "python3"
  },
  "language_info": {
   "codemirror_mode": {
    "name": "ipython",
    "version": 3
   },
   "file_extension": ".py",
   "mimetype": "text/x-python",
   "name": "python",
   "nbconvert_exporter": "python",
   "pygments_lexer": "ipython3",
   "version": "3.8.10"
  },
  "orig_nbformat": 4
 },
 "nbformat": 4,
 "nbformat_minor": 2
}
