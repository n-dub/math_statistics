{
 "cells": [
  {
   "cell_type": "markdown",
   "metadata": {},
   "source": [
    "## Часть первая. Исследование одномерной выборки.\n",
    "### Составить вариационный ряд"
   ]
  },
  {
   "cell_type": "code",
   "execution_count": 1,
   "metadata": {},
   "outputs": [
    {
     "name": "stdout",
     "output_type": "stream",
     "text": [
      "Xmin = -1; Xmax = 990\n",
      "K = 7.664 = 7; H = 130\n"
     ]
    },
    {
     "data": {
      "text/plain": [
       "0     137\n",
       "1     255\n",
       "2     223\n",
       "3     117\n",
       "4     297\n",
       "     ... \n",
       "95     40\n",
       "96    144\n",
       "97    360\n",
       "98     40\n",
       "99    215\n",
       "Name: Crime_rate, Length: 100, dtype: int64"
      ]
     },
     "execution_count": 1,
     "metadata": {},
     "output_type": "execute_result"
    }
   ],
   "source": [
    "import math\n",
    "import pandas as pd\n",
    "data = pd.read_csv('sample_100.csv', sep=';')['Crime_rate']\n",
    "d_max, d_min = data.max(), data.min() - 1\n",
    "k = 1 + 3.332 * math.log10(len(data))\n",
    "h = math.ceil((d_max - d_min) / k)\n",
    "print(f'Xmin = {d_min}; Xmax = {d_max}')\n",
    "print(f'K = {k} = {math.floor(k)}; H = {h}')\n",
    "data"
   ]
  },
  {
   "cell_type": "code",
   "execution_count": 2,
   "metadata": {},
   "outputs": [
    {
     "data": {
      "text/html": [
       "<div>\n",
       "<style scoped>\n",
       "    .dataframe tbody tr th:only-of-type {\n",
       "        vertical-align: middle;\n",
       "    }\n",
       "\n",
       "    .dataframe tbody tr th {\n",
       "        vertical-align: top;\n",
       "    }\n",
       "\n",
       "    .dataframe thead th {\n",
       "        text-align: right;\n",
       "    }\n",
       "</style>\n",
       "<table border=\"1\" class=\"dataframe\">\n",
       "  <thead>\n",
       "    <tr style=\"text-align: right;\">\n",
       "      <th></th>\n",
       "      <th>Count</th>\n",
       "      <th>Centers</th>\n",
       "      <th>Relative</th>\n",
       "    </tr>\n",
       "  </thead>\n",
       "  <tbody>\n",
       "    <tr>\n",
       "      <th>-1-129</th>\n",
       "      <td>37</td>\n",
       "      <td>64.0</td>\n",
       "      <td>0.37</td>\n",
       "    </tr>\n",
       "    <tr>\n",
       "      <th>129-259</th>\n",
       "      <td>27</td>\n",
       "      <td>194.0</td>\n",
       "      <td>0.27</td>\n",
       "    </tr>\n",
       "    <tr>\n",
       "      <th>259-389</th>\n",
       "      <td>13</td>\n",
       "      <td>324.0</td>\n",
       "      <td>0.13</td>\n",
       "    </tr>\n",
       "    <tr>\n",
       "      <th>389-519</th>\n",
       "      <td>10</td>\n",
       "      <td>454.0</td>\n",
       "      <td>0.10</td>\n",
       "    </tr>\n",
       "    <tr>\n",
       "      <th>519-649</th>\n",
       "      <td>7</td>\n",
       "      <td>584.0</td>\n",
       "      <td>0.07</td>\n",
       "    </tr>\n",
       "    <tr>\n",
       "      <th>649-779</th>\n",
       "      <td>4</td>\n",
       "      <td>714.0</td>\n",
       "      <td>0.04</td>\n",
       "    </tr>\n",
       "    <tr>\n",
       "      <th>779-909</th>\n",
       "      <td>1</td>\n",
       "      <td>844.0</td>\n",
       "      <td>0.01</td>\n",
       "    </tr>\n",
       "  </tbody>\n",
       "</table>\n",
       "</div>"
      ],
      "text/plain": [
       "         Count  Centers  Relative\n",
       "-1-129      37     64.0      0.37\n",
       "129-259     27    194.0      0.27\n",
       "259-389     13    324.0      0.13\n",
       "389-519     10    454.0      0.10\n",
       "519-649      7    584.0      0.07\n",
       "649-779      4    714.0      0.04\n",
       "779-909      1    844.0      0.01"
      ]
     },
     "execution_count": 2,
     "metadata": {},
     "output_type": "execute_result"
    }
   ],
   "source": [
    "series = {}\n",
    "interval_starts = []\n",
    "interval_ends = []\n",
    "for i in range(math.floor(k)):\n",
    "    c_min = d_min + h * i\n",
    "    c_max = c_min + h\n",
    "    interval_starts.append(c_min)\n",
    "    interval_ends.append(c_max)\n",
    "    series[f'{c_min}-{c_max}'] = data[(data > c_min) & (data <= c_max)].tolist()\n",
    "series_n = pd.DataFrame({key: len(series[key]) for key in series}, index=['Count']).T\n",
    "series_n['Centers'] = [(x[0] + x[1]) / 2 for x in zip(interval_starts, interval_ends)]\n",
    "series_n['Relative'] = series_n['Count'] / 100\n",
    "series_n"
   ]
  },
  {
   "cell_type": "markdown",
   "metadata": {},
   "source": [
    "### Полигон и гистограмма частот"
   ]
  },
  {
   "cell_type": "code",
   "execution_count": 5,
   "metadata": {},
   "outputs": [
    {
     "data": {
      "image/png": "[encoded data removed]",
      "text/plain": [
       "<Figure size 432x288 with 1 Axes>"
      ]
     },
     "metadata": {
      "needs_background": "light"
     },
     "output_type": "display_data"
    }
   ],
   "source": [
    "import matplotlib.pyplot as plt\n",
    "import numpy as np\n",
    "plt.plot(series_n['Centers'], series_n['Relative'], marker='s', label='полигон частот', color='gray')\n",
    "plt.bar(np.array(interval_starts) + h / 2, series_n['Relative'], h, label='гистограмма частот', color='lightgray')\n",
    "plt.legend()\n",
    "\n",
    "plt.rcParams['axes.facecolor']='white'\n",
    "plt.rcParams['savefig.facecolor']='white'\n",
    "plt.savefig('../images/fig01.png', dpi=500)"
   ]
  }
 ],
 "metadata": {
  "interpreter": {
   "hash": "e4c0a5a8d53faab8e6f57f3251c9eb03ce22814de9778c6c62bad453f29e3df4"
  },
  "kernelspec": {
   "display_name": "Python 3.8.10 64-bit",
   "language": "python",
   "name": "python3"
  },
  "language_info": {
   "codemirror_mode": {
    "name": "ipython",
    "version": 3
   },
   "file_extension": ".py",
   "mimetype": "text/x-python",
   "name": "python",
   "nbconvert_exporter": "python",
   "pygments_lexer": "ipython3",
   "version": "3.8.10"
  },
  "orig_nbformat": 4
 },
 "nbformat": 4,
 "nbformat_minor": 2
}
