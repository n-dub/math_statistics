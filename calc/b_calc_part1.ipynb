{
 "cells": [
  {
   "cell_type": "markdown",
   "metadata": {},
   "source": [
    "## Часть первая. Исследование одномерной выборки.\n",
    "### Составить вариационный ряд"
   ]
  },
  {
   "cell_type": "code",
   "execution_count": 466,
   "metadata": {},
   "outputs": [
    {
     "name": "stdout",
     "output_type": "stream",
     "text": [
      "Xmin = 0; Xmax = 990\n",
      "K = 7.664 = 7; H = 130\n"
     ]
    },
    {
     "data": {
      "text/plain": [
       "0     137\n",
       "1     255\n",
       "2     223\n",
       "3     117\n",
       "4     297\n",
       "     ... \n",
       "95     40\n",
       "96    144\n",
       "97    360\n",
       "98     40\n",
       "99    215\n",
       "Name: Crime_rate, Length: 100, dtype: int64"
      ]
     },
     "execution_count": 466,
     "metadata": {},
     "output_type": "execute_result"
    }
   ],
   "source": [
    "import math\n",
    "import pandas as pd\n",
    "data = pd.read_csv('sample_100.csv', sep=';')['Crime_rate']\n",
    "d_max, d_min = data.max(), data.min()\n",
    "k = 1 + 3.332 * math.log10(len(data))\n",
    "h = math.ceil((d_max - d_min) / k)\n",
    "print(f'Xmin = {d_min}; Xmax = {d_max}')\n",
    "print(f'K = {k} = {math.floor(k)}; H = {h}')\n",
    "data"
   ]
  },
  {
   "cell_type": "code",
   "execution_count": 467,
   "metadata": {},
   "outputs": [
    {
     "name": "stdout",
     "output_type": "stream",
     "text": [
      "Вариационный ряд:\n",
      "       0-130  130-260  260-390  390-520  520-650  650-780  780-910  910-1040\n",
      "Count     37       27       13       10        7        4        1         1\n"
     ]
    },
    {
     "data": {
      "text/html": [
       "<div>\n",
       "<style scoped>\n",
       "    .dataframe tbody tr th:only-of-type {\n",
       "        vertical-align: middle;\n",
       "    }\n",
       "\n",
       "    .dataframe tbody tr th {\n",
       "        vertical-align: top;\n",
       "    }\n",
       "\n",
       "    .dataframe thead th {\n",
       "        text-align: right;\n",
       "    }\n",
       "</style>\n",
       "<table border=\"1\" class=\"dataframe\">\n",
       "  <thead>\n",
       "    <tr style=\"text-align: right;\">\n",
       "      <th></th>\n",
       "      <th>Count</th>\n",
       "      <th>Centers</th>\n",
       "      <th>Relative</th>\n",
       "    </tr>\n",
       "  </thead>\n",
       "  <tbody>\n",
       "    <tr>\n",
       "      <th>0-130</th>\n",
       "      <td>37</td>\n",
       "      <td>65.0</td>\n",
       "      <td>0.37</td>\n",
       "    </tr>\n",
       "    <tr>\n",
       "      <th>130-260</th>\n",
       "      <td>27</td>\n",
       "      <td>195.0</td>\n",
       "      <td>0.27</td>\n",
       "    </tr>\n",
       "    <tr>\n",
       "      <th>260-390</th>\n",
       "      <td>13</td>\n",
       "      <td>325.0</td>\n",
       "      <td>0.13</td>\n",
       "    </tr>\n",
       "    <tr>\n",
       "      <th>390-520</th>\n",
       "      <td>10</td>\n",
       "      <td>455.0</td>\n",
       "      <td>0.10</td>\n",
       "    </tr>\n",
       "    <tr>\n",
       "      <th>520-650</th>\n",
       "      <td>7</td>\n",
       "      <td>585.0</td>\n",
       "      <td>0.07</td>\n",
       "    </tr>\n",
       "    <tr>\n",
       "      <th>650-780</th>\n",
       "      <td>4</td>\n",
       "      <td>715.0</td>\n",
       "      <td>0.04</td>\n",
       "    </tr>\n",
       "    <tr>\n",
       "      <th>780-910</th>\n",
       "      <td>1</td>\n",
       "      <td>845.0</td>\n",
       "      <td>0.01</td>\n",
       "    </tr>\n",
       "    <tr>\n",
       "      <th>910-1040</th>\n",
       "      <td>1</td>\n",
       "      <td>975.0</td>\n",
       "      <td>0.01</td>\n",
       "    </tr>\n",
       "  </tbody>\n",
       "</table>\n",
       "</div>"
      ],
      "text/plain": [
       "          Count  Centers  Relative\n",
       "0-130        37     65.0      0.37\n",
       "130-260      27    195.0      0.27\n",
       "260-390      13    325.0      0.13\n",
       "390-520      10    455.0      0.10\n",
       "520-650       7    585.0      0.07\n",
       "650-780       4    715.0      0.04\n",
       "780-910       1    845.0      0.01\n",
       "910-1040      1    975.0      0.01"
      ]
     },
     "execution_count": 467,
     "metadata": {},
     "output_type": "execute_result"
    }
   ],
   "source": [
    "series = {}\n",
    "interval_starts = []\n",
    "interval_ends = []\n",
    "for i in range(math.floor(k) + 1):\n",
    "    c_min = d_min + h * i\n",
    "    c_max = c_min + h\n",
    "    interval_starts.append(c_min)\n",
    "    interval_ends.append(c_max)\n",
    "    series[f'{c_min}-{c_max}'] = data[(data > c_min) & (data <= c_max)].tolist()\n",
    "series[f'{d_min}-{d_min + h}'] = data[(data >= d_min) & (data <= d_min + h)].tolist()\n",
    "series_n = pd.DataFrame({key: len(series[key]) for key in series}, index=['Count']).T\n",
    "series_n['Centers'] = [(x[0] + x[1]) / 2 for x in zip(interval_starts, interval_ends)]\n",
    "series_n['Relative'] = series_n['Count'] / 100\n",
    "print('Вариационный ряд:')\n",
    "print(series_n[['Count']].T)\n",
    "series_n"
   ]
  },
  {
   "cell_type": "markdown",
   "metadata": {},
   "source": [
    "### Полигон и гистограмма частот"
   ]
  },
  {
   "cell_type": "code",
   "execution_count": 468,
   "metadata": {},
   "outputs": [
    {
     "data": {
      "image/png": "[encoded data removed]",
      "text/plain": [
       "<Figure size 432x288 with 1 Axes>"
      ]
     },
     "metadata": {
      "needs_background": "light"
     },
     "output_type": "display_data"
    }
   ],
   "source": [
    "import matplotlib.pyplot as plt\n",
    "import numpy as np\n",
    "plt.plot(series_n['Centers'], series_n['Relative'], marker='s', label='полигон частот', color='gray')\n",
    "plt.bar(np.array(interval_starts) + h / 2, series_n['Relative'], h, label='гистограмма частот', color='lightgray')\n",
    "plt.legend()\n",
    "\n",
    "plt.rcParams['axes.facecolor']='white'\n",
    "plt.rcParams['savefig.facecolor']='white'\n",
    "plt.savefig('../images/fig01.png', dpi=500)"
   ]
  },
  {
   "cell_type": "markdown",
   "metadata": {},
   "source": [
    "### Эмпирическая функция распределения"
   ]
  },
  {
   "cell_type": "code",
   "execution_count": 469,
   "metadata": {},
   "outputs": [
    {
     "data": {
      "text/plain": [
       "[0.0, 0.37, 0.64, 0.77, 0.87, 0.94, 0.98, 0.99, 1.0, 1.0]"
      ]
     },
     "execution_count": 469,
     "metadata": {},
     "output_type": "execute_result"
    }
   ],
   "source": [
    "cumulative = [0.0]\n",
    "for v in series_n['Relative']:\n",
    "    cumulative.append(cumulative[-1] + v)\n",
    "cumulative.append(1.0)\n",
    "cumulative"
   ]
  },
  {
   "cell_type": "code",
   "execution_count": 470,
   "metadata": {},
   "outputs": [
    {
     "data": {
      "text/plain": [
       "<matplotlib.collections.LineCollection at 0x26033817c70>"
      ]
     },
     "execution_count": 470,
     "metadata": {},
     "output_type": "execute_result"
    },
    {
     "data": {
      "image/png": "[encoded data removed]",
      "text/plain": [
       "<Figure size 432x288 with 1 Axes>"
      ]
     },
     "metadata": {
      "needs_background": "light"
     },
     "output_type": "display_data"
    }
   ],
   "source": [
    "plt.hlines(cumulative[1:-1], interval_starts, interval_ends)"
   ]
  },
  {
   "cell_type": "markdown",
   "metadata": {},
   "source": [
    "### Выборочная средняя"
   ]
  },
  {
   "cell_type": "code",
   "execution_count": 471,
   "metadata": {},
   "outputs": [
    {
     "data": {
      "text/plain": [
       "252.2"
      ]
     },
     "execution_count": 471,
     "metadata": {},
     "output_type": "execute_result"
    }
   ],
   "source": [
    "# несмещённая оценка генеральной средней\n",
    "mean = (series_n['Count'] * series_n['Centers']).sum() / 100\n",
    "mean"
   ]
  },
  {
   "cell_type": "markdown",
   "metadata": {},
   "source": [
    "### Выборочная дисперсия"
   ]
  },
  {
   "cell_type": "code",
   "execution_count": 472,
   "metadata": {},
   "outputs": [
    {
     "data": {
      "text/plain": [
       "43710.16"
      ]
     },
     "execution_count": 472,
     "metadata": {},
     "output_type": "execute_result"
    }
   ],
   "source": [
    "disp = (series_n['Count'] * (series_n['Centers'] - mean) ** 2).sum() / 100\n",
    "disp"
   ]
  },
  {
   "cell_type": "markdown",
   "metadata": {},
   "source": [
    "### Исправленная дисперсия"
   ]
  },
  {
   "cell_type": "code",
   "execution_count": 473,
   "metadata": {},
   "outputs": [
    {
     "data": {
      "text/plain": [
       "44151.67676767677"
      ]
     },
     "execution_count": 473,
     "metadata": {},
     "output_type": "execute_result"
    }
   ],
   "source": [
    "s_2 = 100 * disp / 99\n",
    "s_2"
   ]
  },
  {
   "cell_type": "markdown",
   "metadata": {},
   "source": [
    "### Среднее квадратическое"
   ]
  },
  {
   "cell_type": "code",
   "execution_count": 474,
   "metadata": {},
   "outputs": [
    {
     "data": {
      "text/plain": [
       "(210.12300389932744, 209.0697491269361)"
      ]
     },
     "execution_count": 474,
     "metadata": {},
     "output_type": "execute_result"
    }
   ],
   "source": [
    "sigma = math.sqrt(disp)\n",
    "s = math.sqrt(s_2)\n",
    "s, sigma"
   ]
  },
  {
   "cell_type": "markdown",
   "metadata": {},
   "source": [
    "### Ассиметрия"
   ]
  },
  {
   "cell_type": "code",
   "execution_count": 475,
   "metadata": {},
   "outputs": [
    {
     "data": {
      "text/plain": [
       "1.1653118003097043"
      ]
     },
     "execution_count": 475,
     "metadata": {},
     "output_type": "execute_result"
    }
   ],
   "source": [
    "assim = (series_n['Count'] * (series_n['Centers'] - mean) ** 3).sum() / (100 * s ** 3)\n",
    "assim"
   ]
  },
  {
   "cell_type": "markdown",
   "metadata": {},
   "source": [
    "### Эксцесс"
   ]
  },
  {
   "cell_type": "code",
   "execution_count": 476,
   "metadata": {},
   "outputs": [
    {
     "data": {
      "text/plain": [
       "0.7386853698553475"
      ]
     },
     "execution_count": 476,
     "metadata": {},
     "output_type": "execute_result"
    }
   ],
   "source": [
    "ex = (series_n['Count'] * (series_n['Centers'] - mean) ** 4).sum() / (100 * s ** 4) - 3\n",
    "ex"
   ]
  },
  {
   "cell_type": "markdown",
   "metadata": {},
   "source": [
    "### Доверительные интервалы"
   ]
  },
  {
   "cell_type": "code",
   "execution_count": 477,
   "metadata": {},
   "outputs": [
    {
     "name": "stdout",
     "output_type": "stream",
     "text": [
      "41.184108764268174\n",
      "211.01589123573183 < a < 293.38410876426815\n"
     ]
    }
   ],
   "source": [
    "ty = 1.96\n",
    "delta = ty * s / math.sqrt(100)\n",
    "print(delta)\n",
    "print(f'{mean - delta} < a < {mean + delta}')"
   ]
  },
  {
   "cell_type": "markdown",
   "metadata": {},
   "source": [
    "### Уровень значимости"
   ]
  },
  {
   "cell_type": "code",
   "execution_count": 478,
   "metadata": {},
   "outputs": [],
   "source": [
    "import scipy\n",
    "def laplace(x):\n",
    "    return scipy.stats.norm.cdf(x) - 0.5"
   ]
  },
  {
   "cell_type": "code",
   "execution_count": 479,
   "metadata": {},
   "outputs": [
    {
     "data": {
      "text/html": [
       "<div>\n",
       "<style scoped>\n",
       "    .dataframe tbody tr th:only-of-type {\n",
       "        vertical-align: middle;\n",
       "    }\n",
       "\n",
       "    .dataframe tbody tr th {\n",
       "        vertical-align: top;\n",
       "    }\n",
       "\n",
       "    .dataframe thead th {\n",
       "        text-align: right;\n",
       "    }\n",
       "</style>\n",
       "<table border=\"1\" class=\"dataframe\">\n",
       "  <thead>\n",
       "    <tr style=\"text-align: right;\">\n",
       "      <th></th>\n",
       "      <th>0</th>\n",
       "      <th>1</th>\n",
       "      <th>2</th>\n",
       "      <th>3</th>\n",
       "      <th>4</th>\n",
       "      <th>5</th>\n",
       "      <th>6</th>\n",
       "      <th>7</th>\n",
       "      <th>8</th>\n",
       "      <th>9</th>\n",
       "    </tr>\n",
       "  </thead>\n",
       "  <tbody>\n",
       "    <tr>\n",
       "      <th>0</th>\n",
       "      <td>0.0</td>\n",
       "      <td>130.0</td>\n",
       "      <td>37.0</td>\n",
       "      <td>-1.200249</td>\n",
       "      <td>-0.581564</td>\n",
       "      <td>-0.384979</td>\n",
       "      <td>-0.219570</td>\n",
       "      <td>0.165409</td>\n",
       "      <td>16.540890</td>\n",
       "      <td>25.305480</td>\n",
       "    </tr>\n",
       "    <tr>\n",
       "      <th>1</th>\n",
       "      <td>130.0</td>\n",
       "      <td>260.0</td>\n",
       "      <td>27.0</td>\n",
       "      <td>-0.581564</td>\n",
       "      <td>0.037121</td>\n",
       "      <td>-0.219570</td>\n",
       "      <td>0.014806</td>\n",
       "      <td>0.234376</td>\n",
       "      <td>23.437562</td>\n",
       "      <td>0.541480</td>\n",
       "    </tr>\n",
       "    <tr>\n",
       "      <th>2</th>\n",
       "      <td>260.0</td>\n",
       "      <td>390.0</td>\n",
       "      <td>13.0</td>\n",
       "      <td>0.037121</td>\n",
       "      <td>0.655806</td>\n",
       "      <td>0.014806</td>\n",
       "      <td>0.244026</td>\n",
       "      <td>0.229220</td>\n",
       "      <td>22.921985</td>\n",
       "      <td>4.294820</td>\n",
       "    </tr>\n",
       "    <tr>\n",
       "      <th>3</th>\n",
       "      <td>390.0</td>\n",
       "      <td>520.0</td>\n",
       "      <td>10.0</td>\n",
       "      <td>0.655806</td>\n",
       "      <td>1.274492</td>\n",
       "      <td>0.244026</td>\n",
       "      <td>0.398755</td>\n",
       "      <td>0.154730</td>\n",
       "      <td>15.472974</td>\n",
       "      <td>1.935856</td>\n",
       "    </tr>\n",
       "    <tr>\n",
       "      <th>4</th>\n",
       "      <td>520.0</td>\n",
       "      <td>650.0</td>\n",
       "      <td>7.0</td>\n",
       "      <td>1.274492</td>\n",
       "      <td>1.893177</td>\n",
       "      <td>0.398755</td>\n",
       "      <td>0.470833</td>\n",
       "      <td>0.072077</td>\n",
       "      <td>7.207745</td>\n",
       "      <td>0.005988</td>\n",
       "    </tr>\n",
       "    <tr>\n",
       "      <th>5</th>\n",
       "      <td>650.0</td>\n",
       "      <td>780.0</td>\n",
       "      <td>4.0</td>\n",
       "      <td>1.893177</td>\n",
       "      <td>2.511862</td>\n",
       "      <td>0.470833</td>\n",
       "      <td>0.493995</td>\n",
       "      <td>0.023162</td>\n",
       "      <td>2.316238</td>\n",
       "      <td>1.223991</td>\n",
       "    </tr>\n",
       "    <tr>\n",
       "      <th>6</th>\n",
       "      <td>780.0</td>\n",
       "      <td>910.0</td>\n",
       "      <td>1.0</td>\n",
       "      <td>2.511862</td>\n",
       "      <td>3.130547</td>\n",
       "      <td>0.493995</td>\n",
       "      <td>0.499128</td>\n",
       "      <td>0.005132</td>\n",
       "      <td>0.513240</td>\n",
       "      <td>0.461647</td>\n",
       "    </tr>\n",
       "    <tr>\n",
       "      <th>7</th>\n",
       "      <td>910.0</td>\n",
       "      <td>1040.0</td>\n",
       "      <td>1.0</td>\n",
       "      <td>3.130547</td>\n",
       "      <td>3.749233</td>\n",
       "      <td>0.499128</td>\n",
       "      <td>0.499911</td>\n",
       "      <td>0.000784</td>\n",
       "      <td>0.078372</td>\n",
       "      <td>10.838092</td>\n",
       "    </tr>\n",
       "  </tbody>\n",
       "</table>\n",
       "</div>"
      ],
      "text/plain": [
       "       0       1     2         3         4         5         6         7  \\\n",
       "0    0.0   130.0  37.0 -1.200249 -0.581564 -0.384979 -0.219570  0.165409   \n",
       "1  130.0   260.0  27.0 -0.581564  0.037121 -0.219570  0.014806  0.234376   \n",
       "2  260.0   390.0  13.0  0.037121  0.655806  0.014806  0.244026  0.229220   \n",
       "3  390.0   520.0  10.0  0.655806  1.274492  0.244026  0.398755  0.154730   \n",
       "4  520.0   650.0   7.0  1.274492  1.893177  0.398755  0.470833  0.072077   \n",
       "5  650.0   780.0   4.0  1.893177  2.511862  0.470833  0.493995  0.023162   \n",
       "6  780.0   910.0   1.0  2.511862  3.130547  0.493995  0.499128  0.005132   \n",
       "7  910.0  1040.0   1.0  3.130547  3.749233  0.499128  0.499911  0.000784   \n",
       "\n",
       "           8          9  \n",
       "0  16.540890  25.305480  \n",
       "1  23.437562   0.541480  \n",
       "2  22.921985   4.294820  \n",
       "3  15.472974   1.935856  \n",
       "4   7.207745   0.005988  \n",
       "5   2.316238   1.223991  \n",
       "6   0.513240   0.461647  \n",
       "7   0.078372  10.838092  "
      ]
     },
     "execution_count": 479,
     "metadata": {},
     "output_type": "execute_result"
    }
   ],
   "source": [
    "t1 = (np.array(interval_starts) - mean) / s\n",
    "t2 = (np.array(interval_ends) - mean) / s\n",
    "t3 = laplace(t1)\n",
    "t4 = laplace(t2)\n",
    "t5 = t4 - t3\n",
    "t6 = 100 * t5\n",
    "t7 = (series_n['Count'].values - t6) ** 2 / t6\n",
    "table2 = pd.DataFrame([interval_starts, interval_ends, series_n['Count'], t1, t2, t3, t4, t5, t6, t7]).T\n",
    "table2"
   ]
  },
  {
   "cell_type": "code",
   "execution_count": 480,
   "metadata": {},
   "outputs": [
    {
     "data": {
      "text/plain": [
       "44.60735329136982"
      ]
     },
     "execution_count": 480,
     "metadata": {},
     "output_type": "execute_result"
    }
   ],
   "source": [
    "r = 7 - 2 - 1\n",
    "x_2 = t7.sum()\n",
    "x_2"
   ]
  }
 ],
 "metadata": {
  "interpreter": {
   "hash": "e4c0a5a8d53faab8e6f57f3251c9eb03ce22814de9778c6c62bad453f29e3df4"
  },
  "kernelspec": {
   "display_name": "Python 3.8.10 64-bit",
   "language": "python",
   "name": "python3"
  },
  "language_info": {
   "codemirror_mode": {
    "name": "ipython",
    "version": 3
   },
   "file_extension": ".py",
   "mimetype": "text/x-python",
   "name": "python",
   "nbconvert_exporter": "python",
   "pygments_lexer": "ipython3",
   "version": "3.8.10"
  },
  "orig_nbformat": 4
 },
 "nbformat": 4,
 "nbformat_minor": 2
}
