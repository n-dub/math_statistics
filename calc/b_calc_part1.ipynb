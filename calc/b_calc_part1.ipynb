{
 "cells": [
  {
   "cell_type": "markdown",
   "metadata": {},
   "source": [
    "## Часть первая. Исследование одномерной выборки.\n",
    "### Вариационный ряд"
   ]
  },
  {
   "cell_type": "code",
   "execution_count": 873,
   "metadata": {},
   "outputs": [
    {
     "name": "stdout",
     "output_type": "stream",
     "text": [
      "Xmin = 0; Xmax = 636\n",
      "K = 6; H = 106\n",
      "N = 94\n"
     ]
    },
    {
     "data": {
      "text/plain": [
       "0     137\n",
       "1     255\n",
       "2     223\n",
       "3     117\n",
       "4     297\n",
       "     ... \n",
       "89     40\n",
       "90    144\n",
       "91    360\n",
       "92     40\n",
       "93    215\n",
       "Name: Crime_rate, Length: 94, dtype: int64"
      ]
     },
     "execution_count": 873,
     "metadata": {},
     "output_type": "execute_result"
    }
   ],
   "source": [
    "import math\n",
    "import pandas as pd\n",
    "data = pd.read_csv('sample_100.csv', sep=';')['Crime_rate']\n",
    "d_max, d_min = data.max(), data.min()\n",
    "k = 1 + 3.22 * math.log10(len(data))\n",
    "k = 6\n",
    "N = len(data)\n",
    "h = math.ceil((d_max - d_min) / k)\n",
    "print(f'Xmin = {d_min}; Xmax = {d_max}')\n",
    "print(f'K = {k}; H = {h}')\n",
    "print(f'N = {N}')\n",
    "data"
   ]
  },
  {
   "cell_type": "code",
   "execution_count": 874,
   "metadata": {},
   "outputs": [
    {
     "name": "stdout",
     "output_type": "stream",
     "text": [
      "Вариационный ряд:\n"
     ]
    },
    {
     "data": {
      "text/html": [
       "<div>\n",
       "<style scoped>\n",
       "    .dataframe tbody tr th:only-of-type {\n",
       "        vertical-align: middle;\n",
       "    }\n",
       "\n",
       "    .dataframe tbody tr th {\n",
       "        vertical-align: top;\n",
       "    }\n",
       "\n",
       "    .dataframe thead th {\n",
       "        text-align: right;\n",
       "    }\n",
       "</style>\n",
       "<table border=\"1\" class=\"dataframe\">\n",
       "  <thead>\n",
       "    <tr style=\"text-align: right;\">\n",
       "      <th></th>\n",
       "      <th>(0; 106]</th>\n",
       "      <th>(106; 212]</th>\n",
       "      <th>(212; 318]</th>\n",
       "      <th>(318; 424]</th>\n",
       "      <th>(424; 530]</th>\n",
       "      <th>(530; 636]</th>\n",
       "    </tr>\n",
       "  </thead>\n",
       "  <tbody>\n",
       "    <tr>\n",
       "      <th>Count</th>\n",
       "      <td>31</td>\n",
       "      <td>25</td>\n",
       "      <td>14</td>\n",
       "      <td>10</td>\n",
       "      <td>8</td>\n",
       "      <td>6</td>\n",
       "    </tr>\n",
       "  </tbody>\n",
       "</table>\n",
       "</div>"
      ],
      "text/plain": [
       "       (0; 106]  (106; 212]  (212; 318]  (318; 424]  (424; 530]  (530; 636]\n",
       "Count        31          25          14          10           8           6"
      ]
     },
     "execution_count": 874,
     "metadata": {},
     "output_type": "execute_result"
    }
   ],
   "source": [
    "series = {}\n",
    "interval_starts = []\n",
    "interval_ends = []\n",
    "for i in range(math.ceil(k)):\n",
    "    c_min = d_min + h * i\n",
    "    c_max = c_min + h\n",
    "    interval_starts.append(c_min)\n",
    "    interval_ends.append(c_max)\n",
    "    series[f'({c_min}; {c_max}]'] = data[(data > c_min) & (data <= c_max)].tolist()\n",
    "series[f'({d_min}; {d_min + h}]'] = data[(data >= d_min) & (data <= d_min + h)].tolist()\n",
    "series_n = pd.DataFrame({key: len(series[key]) for key in series}, index=['Count']).T\n",
    "series_n['Centers'] = [(x[0] + x[1]) / 2 for x in zip(interval_starts, interval_ends)]\n",
    "series_n['Relative'] = series_n['Count'] / N\n",
    "print('Вариационный ряд:')\n",
    "series_n[['Count']].T"
   ]
  },
  {
   "cell_type": "markdown",
   "metadata": {},
   "source": [
    "### Полигон и гистограмма частот"
   ]
  },
  {
   "cell_type": "code",
   "execution_count": 875,
   "metadata": {},
   "outputs": [
    {
     "data": {
      "image/png": "[encoded data removed]",
      "text/plain": [
       "<Figure size 432x288 with 1 Axes>"
      ]
     },
     "metadata": {
      "needs_background": "light"
     },
     "output_type": "display_data"
    }
   ],
   "source": [
    "import matplotlib.pyplot as plt\n",
    "import numpy as np\n",
    "plt.plot(series_n['Centers'], series_n['Relative'], marker='s', label='полигон частот', color='gray')\n",
    "plt.bar(np.array(interval_starts) + h / 2, series_n['Relative'], h, label='гистограмма частот', color='lightgray')\n",
    "plt.legend()\n",
    "\n",
    "plt.rcParams['axes.facecolor']='white'\n",
    "plt.rcParams['savefig.facecolor']='white'\n",
    "plt.savefig('../images/fig01.png', dpi=500)"
   ]
  },
  {
   "cell_type": "code",
   "execution_count": 876,
   "metadata": {},
   "outputs": [
    {
     "data": {
      "text/html": [
       "<div>\n",
       "<style scoped>\n",
       "    .dataframe tbody tr th:only-of-type {\n",
       "        vertical-align: middle;\n",
       "    }\n",
       "\n",
       "    .dataframe tbody tr th {\n",
       "        vertical-align: top;\n",
       "    }\n",
       "\n",
       "    .dataframe thead th {\n",
       "        text-align: right;\n",
       "    }\n",
       "</style>\n",
       "<table border=\"1\" class=\"dataframe\">\n",
       "  <thead>\n",
       "    <tr style=\"text-align: right;\">\n",
       "      <th></th>\n",
       "      <th>(0; 106]</th>\n",
       "      <th>(106; 212]</th>\n",
       "      <th>(212; 318]</th>\n",
       "      <th>(318; 424]</th>\n",
       "      <th>(424; 530]</th>\n",
       "      <th>(530; 636]</th>\n",
       "    </tr>\n",
       "  </thead>\n",
       "  <tbody>\n",
       "    <tr>\n",
       "      <th>Count</th>\n",
       "      <td>31.000000</td>\n",
       "      <td>25.000000</td>\n",
       "      <td>14.000000</td>\n",
       "      <td>10.000000</td>\n",
       "      <td>8.000000</td>\n",
       "      <td>6.00000</td>\n",
       "    </tr>\n",
       "    <tr>\n",
       "      <th>Centers</th>\n",
       "      <td>53.000000</td>\n",
       "      <td>159.000000</td>\n",
       "      <td>265.000000</td>\n",
       "      <td>371.000000</td>\n",
       "      <td>477.000000</td>\n",
       "      <td>583.00000</td>\n",
       "    </tr>\n",
       "    <tr>\n",
       "      <th>Relative</th>\n",
       "      <td>0.329787</td>\n",
       "      <td>0.265957</td>\n",
       "      <td>0.148936</td>\n",
       "      <td>0.106383</td>\n",
       "      <td>0.085106</td>\n",
       "      <td>0.06383</td>\n",
       "    </tr>\n",
       "  </tbody>\n",
       "</table>\n",
       "</div>"
      ],
      "text/plain": [
       "           (0; 106]  (106; 212]  (212; 318]  (318; 424]  (424; 530]  \\\n",
       "Count     31.000000   25.000000   14.000000   10.000000    8.000000   \n",
       "Centers   53.000000  159.000000  265.000000  371.000000  477.000000   \n",
       "Relative   0.329787    0.265957    0.148936    0.106383    0.085106   \n",
       "\n",
       "          (530; 636]  \n",
       "Count        6.00000  \n",
       "Centers    583.00000  \n",
       "Relative     0.06383  "
      ]
     },
     "execution_count": 876,
     "metadata": {},
     "output_type": "execute_result"
    }
   ],
   "source": [
    "series_n.T"
   ]
  },
  {
   "cell_type": "markdown",
   "metadata": {},
   "source": [
    "### Эмпирическая функция распределения"
   ]
  },
  {
   "cell_type": "code",
   "execution_count": 877,
   "metadata": {},
   "outputs": [
    {
     "data": {
      "text/plain": [
       "[0.0, 0.33, 0.596, 0.745, 0.851, 0.936, 1.0, 1.0]"
      ]
     },
     "execution_count": 877,
     "metadata": {},
     "output_type": "execute_result"
    }
   ],
   "source": [
    "cumulative = [0.0]\n",
    "for v in series_n['Relative']:\n",
    "    cumulative.append(cumulative[-1] + v)\n",
    "cumulative.append(1.0)\n",
    "[round(x, 3) for x in cumulative]"
   ]
  },
  {
   "cell_type": "code",
   "execution_count": 889,
   "metadata": {},
   "outputs": [
    {
     "data": {
      "image/png": "[encoded data removed]",
      "text/plain": [
       "<Figure size 432x288 with 1 Axes>"
      ]
     },
     "metadata": {
      "needs_background": "light"
     },
     "output_type": "display_data"
    }
   ],
   "source": [
    "plt.hlines(cumulative[1:-1], interval_starts, interval_ends)\n",
    "plt.savefig('../images/fig02.png', dpi=500)"
   ]
  },
  {
   "cell_type": "markdown",
   "metadata": {},
   "source": [
    "### Выборочная средняя"
   ]
  },
  {
   "cell_type": "code",
   "execution_count": 879,
   "metadata": {},
   "outputs": [
    {
     "data": {
      "text/plain": [
       "216.51063829787233"
      ]
     },
     "execution_count": 879,
     "metadata": {},
     "output_type": "execute_result"
    }
   ],
   "source": [
    "# несмещённая оценка генеральной средней\n",
    "mean = (series_n['Count'] * series_n['Centers']).sum() / N\n",
    "mean"
   ]
  },
  {
   "cell_type": "markdown",
   "metadata": {},
   "source": [
    "### Выборочная дисперсия"
   ]
  },
  {
   "cell_type": "code",
   "execution_count": 880,
   "metadata": {},
   "outputs": [
    {
     "data": {
      "text/plain": [
       "26934.100950656408"
      ]
     },
     "execution_count": 880,
     "metadata": {},
     "output_type": "execute_result"
    }
   ],
   "source": [
    "disp = (series_n['Count'] * (series_n['Centers'] - mean) ** 2).sum() / N\n",
    "disp"
   ]
  },
  {
   "cell_type": "markdown",
   "metadata": {},
   "source": [
    "### Исправленная дисперсия"
   ]
  },
  {
   "cell_type": "code",
   "execution_count": 881,
   "metadata": {},
   "outputs": [
    {
     "data": {
      "text/plain": [
       "27223.714939373145"
      ]
     },
     "execution_count": 881,
     "metadata": {},
     "output_type": "execute_result"
    }
   ],
   "source": [
    "s_2 = N * disp / (N - 1)\n",
    "s_2"
   ]
  },
  {
   "cell_type": "markdown",
   "metadata": {},
   "source": [
    "### Среднее квадратическое"
   ]
  },
  {
   "cell_type": "code",
   "execution_count": 882,
   "metadata": {},
   "outputs": [
    {
     "data": {
      "text/plain": [
       "(164.99610583093514, 164.11612032538548)"
      ]
     },
     "execution_count": 882,
     "metadata": {},
     "output_type": "execute_result"
    }
   ],
   "source": [
    "sigma = math.sqrt(disp)\n",
    "s = math.sqrt(s_2)\n",
    "s, sigma"
   ]
  },
  {
   "cell_type": "markdown",
   "metadata": {},
   "source": [
    "### Ассиметрия"
   ]
  },
  {
   "cell_type": "code",
   "execution_count": 883,
   "metadata": {},
   "outputs": [
    {
     "data": {
      "text/plain": [
       "0.7932791919760075"
      ]
     },
     "execution_count": 883,
     "metadata": {},
     "output_type": "execute_result"
    }
   ],
   "source": [
    "assim = (series_n['Count'] * (series_n['Centers'] - mean) ** 3).sum() / (N * s ** 3)\n",
    "assim"
   ]
  },
  {
   "cell_type": "markdown",
   "metadata": {},
   "source": [
    "### Эксцесс"
   ]
  },
  {
   "cell_type": "code",
   "execution_count": 884,
   "metadata": {},
   "outputs": [
    {
     "data": {
      "text/plain": [
       "-0.5126805504012646"
      ]
     },
     "execution_count": 884,
     "metadata": {},
     "output_type": "execute_result"
    }
   ],
   "source": [
    "ex = (series_n['Count'] * (series_n['Centers'] - mean) ** 4).sum() / (N * s ** 4) - 3\n",
    "ex"
   ]
  },
  {
   "cell_type": "markdown",
   "metadata": {},
   "source": [
    "### Доверительные интервалы"
   ]
  },
  {
   "cell_type": "code",
   "execution_count": 885,
   "metadata": {},
   "outputs": [
    {
     "name": "stdout",
     "output_type": "stream",
     "text": [
      "33.35537586438221\n",
      "183.15526243349012 < a < 249.86601416225454\n"
     ]
    }
   ],
   "source": [
    "ty = 1.96\n",
    "delta = ty * s / math.sqrt(N)\n",
    "print(delta)\n",
    "print(f'{mean - delta} < a < {mean + delta}')"
   ]
  },
  {
   "cell_type": "markdown",
   "metadata": {},
   "source": [
    "### Уровень значимости"
   ]
  },
  {
   "cell_type": "code",
   "execution_count": 886,
   "metadata": {},
   "outputs": [],
   "source": [
    "import scipy\n",
    "def laplace(x):\n",
    "    return scipy.stats.norm.cdf(x) - 0.5"
   ]
  },
  {
   "cell_type": "code",
   "execution_count": 887,
   "metadata": {},
   "outputs": [
    {
     "data": {
      "text/html": [
       "<div>\n",
       "<style scoped>\n",
       "    .dataframe tbody tr th:only-of-type {\n",
       "        vertical-align: middle;\n",
       "    }\n",
       "\n",
       "    .dataframe tbody tr th {\n",
       "        vertical-align: top;\n",
       "    }\n",
       "\n",
       "    .dataframe thead th {\n",
       "        text-align: right;\n",
       "    }\n",
       "</style>\n",
       "<table border=\"1\" class=\"dataframe\">\n",
       "  <thead>\n",
       "    <tr style=\"text-align: right;\">\n",
       "      <th></th>\n",
       "      <th>0</th>\n",
       "      <th>1</th>\n",
       "      <th>2</th>\n",
       "      <th>3</th>\n",
       "      <th>4</th>\n",
       "      <th>5</th>\n",
       "      <th>6</th>\n",
       "      <th>7</th>\n",
       "      <th>8</th>\n",
       "      <th>9</th>\n",
       "    </tr>\n",
       "  </thead>\n",
       "  <tbody>\n",
       "    <tr>\n",
       "      <th>0</th>\n",
       "      <td>0.0</td>\n",
       "      <td>106.0</td>\n",
       "      <td>31.0</td>\n",
       "      <td>-1.312217</td>\n",
       "      <td>-0.669777</td>\n",
       "      <td>-0.405276</td>\n",
       "      <td>-0.248500</td>\n",
       "      <td>0.156776</td>\n",
       "      <td>14.736979</td>\n",
       "      <td>17.947086</td>\n",
       "    </tr>\n",
       "    <tr>\n",
       "      <th>1</th>\n",
       "      <td>106.0</td>\n",
       "      <td>212.0</td>\n",
       "      <td>25.0</td>\n",
       "      <td>-0.669777</td>\n",
       "      <td>-0.027338</td>\n",
       "      <td>-0.248500</td>\n",
       "      <td>-0.010905</td>\n",
       "      <td>0.237595</td>\n",
       "      <td>22.333952</td>\n",
       "      <td>0.318251</td>\n",
       "    </tr>\n",
       "    <tr>\n",
       "      <th>2</th>\n",
       "      <td>212.0</td>\n",
       "      <td>318.0</td>\n",
       "      <td>14.0</td>\n",
       "      <td>-0.027338</td>\n",
       "      <td>0.615102</td>\n",
       "      <td>-0.010905</td>\n",
       "      <td>0.230756</td>\n",
       "      <td>0.241661</td>\n",
       "      <td>22.716138</td>\n",
       "      <td>3.344365</td>\n",
       "    </tr>\n",
       "    <tr>\n",
       "      <th>3</th>\n",
       "      <td>318.0</td>\n",
       "      <td>424.0</td>\n",
       "      <td>10.0</td>\n",
       "      <td>0.615102</td>\n",
       "      <td>1.257541</td>\n",
       "      <td>0.230756</td>\n",
       "      <td>0.395721</td>\n",
       "      <td>0.164965</td>\n",
       "      <td>15.506702</td>\n",
       "      <td>1.955527</td>\n",
       "    </tr>\n",
       "    <tr>\n",
       "      <th>4</th>\n",
       "      <td>424.0</td>\n",
       "      <td>530.0</td>\n",
       "      <td>8.0</td>\n",
       "      <td>1.257541</td>\n",
       "      <td>1.899980</td>\n",
       "      <td>0.395721</td>\n",
       "      <td>0.471282</td>\n",
       "      <td>0.075561</td>\n",
       "      <td>7.102740</td>\n",
       "      <td>0.113347</td>\n",
       "    </tr>\n",
       "    <tr>\n",
       "      <th>5</th>\n",
       "      <td>530.0</td>\n",
       "      <td>636.0</td>\n",
       "      <td>6.0</td>\n",
       "      <td>1.899980</td>\n",
       "      <td>2.542420</td>\n",
       "      <td>0.471282</td>\n",
       "      <td>0.494496</td>\n",
       "      <td>0.023213</td>\n",
       "      <td>2.182065</td>\n",
       "      <td>6.680200</td>\n",
       "    </tr>\n",
       "  </tbody>\n",
       "</table>\n",
       "</div>"
      ],
      "text/plain": [
       "       0      1     2         3         4         5         6         7  \\\n",
       "0    0.0  106.0  31.0 -1.312217 -0.669777 -0.405276 -0.248500  0.156776   \n",
       "1  106.0  212.0  25.0 -0.669777 -0.027338 -0.248500 -0.010905  0.237595   \n",
       "2  212.0  318.0  14.0 -0.027338  0.615102 -0.010905  0.230756  0.241661   \n",
       "3  318.0  424.0  10.0  0.615102  1.257541  0.230756  0.395721  0.164965   \n",
       "4  424.0  530.0   8.0  1.257541  1.899980  0.395721  0.471282  0.075561   \n",
       "5  530.0  636.0   6.0  1.899980  2.542420  0.471282  0.494496  0.023213   \n",
       "\n",
       "           8          9  \n",
       "0  14.736979  17.947086  \n",
       "1  22.333952   0.318251  \n",
       "2  22.716138   3.344365  \n",
       "3  15.506702   1.955527  \n",
       "4   7.102740   0.113347  \n",
       "5   2.182065   6.680200  "
      ]
     },
     "execution_count": 887,
     "metadata": {},
     "output_type": "execute_result"
    }
   ],
   "source": [
    "t1 = (np.array(interval_starts) - mean) / s\n",
    "t2 = (np.array(interval_ends) - mean) / s\n",
    "t3 = laplace(t1)\n",
    "t4 = laplace(t2)\n",
    "t5 = t4 - t3\n",
    "t6 = N * t5\n",
    "t7 = (series_n['Count'].values - t6) ** 2 / t6\n",
    "table2 = pd.DataFrame([interval_starts, interval_ends, series_n['Count'], t1, t2, t3, t4, t5, t6, t7]).T\n",
    "table2"
   ]
  },
  {
   "cell_type": "code",
   "execution_count": 888,
   "metadata": {},
   "outputs": [
    {
     "data": {
      "text/plain": [
       "(1.1598852271470995e-06, 30.358776834854368)"
      ]
     },
     "execution_count": 888,
     "metadata": {},
     "output_type": "execute_result"
    }
   ],
   "source": [
    "r = k - 2 - 1\n",
    "x_2 = t7.sum()\n",
    "scipy.stats.chi2.sf(x_2, r), x_2"
   ]
  }
 ],
 "metadata": {
  "interpreter": {
   "hash": "e4c0a5a8d53faab8e6f57f3251c9eb03ce22814de9778c6c62bad453f29e3df4"
  },
  "kernelspec": {
   "display_name": "Python 3.8.10 64-bit",
   "language": "python",
   "name": "python3"
  },
  "language_info": {
   "codemirror_mode": {
    "name": "ipython",
    "version": 3
   },
   "file_extension": ".py",
   "mimetype": "text/x-python",
   "name": "python",
   "nbconvert_exporter": "python",
   "pygments_lexer": "ipython3",
   "version": "3.8.10"
  },
  "orig_nbformat": 4
 },
 "nbformat": 4,
 "nbformat_minor": 2
}
